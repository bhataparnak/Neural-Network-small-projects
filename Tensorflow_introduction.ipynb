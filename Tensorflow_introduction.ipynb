{
  "nbformat": 4,
  "nbformat_minor": 0,
  "metadata": {
    "kernelspec": {
      "display_name": "Python 3",
      "language": "python",
      "name": "python3"
    },
    "language_info": {
      "codemirror_mode": {
        "name": "ipython",
        "version": 3
      },
      "file_extension": ".py",
      "mimetype": "text/x-python",
      "name": "python",
      "nbconvert_exporter": "python",
      "pygments_lexer": "ipython3",
      "version": "3.7.6"
    },
    "colab": {
      "name": "Tensorflow_introduction",
      "provenance": []
    }
  },
  "cells": [
    {
      "cell_type": "markdown",
      "metadata": {
        "id": "ezKUg1VK5c8H"
      },
      "source": [
        "# Introduction to TensorFlow\n",
        "\n",
        "Welcome to this week's programming assignment! Up until now, you've always used Numpy to build neural networks, but this week you'll explore a deep learning framework that allows you to build neural networks more easily. Machine learning frameworks like TensorFlow, PaddlePaddle, Torch, Caffe, Keras, and many others can speed up your machine learning development significantly. TensorFlow 2.3 has made significant improvements over its predecessor, some of which you'll encounter and implement here!\n",
        "\n",
        "By the end of this assignment, you'll be able to do the following in TensorFlow 2.3:\n",
        "\n",
        "* Use `tf.Variable` to modify the state of a variable\n",
        "* Explain the difference between a variable and a constant\n",
        "* Apply TensorFlow decorators to speed up code\n",
        "* Train a Neural Network on a TensorFlow dataset\n",
        "\n",
        "Programming frameworks like TensorFlow not only cut down on time spent coding, but can also perform optimizations that speed up the code itself. "
      ]
    },
    {
      "cell_type": "markdown",
      "metadata": {
        "id": "cKcnxX3N5c8K"
      },
      "source": [
        "## Table of Contents\n",
        "- [1- Packages](#1)\n",
        "    - [1.1 - Checking TensorFlow Version](#1-1)\n",
        "- [2 - Basic Optimization with GradientTape](#2)\n",
        "    - [2.1 - Linear Function](#2-1)\n",
        "        - [Exercise 1 - linear_function](#ex-1)\n",
        "    - [2.2 - Computing the Sigmoid](#2-2)\n",
        "        - [Exercise 2 - sigmoid](#ex-2)\n",
        "    - [2.3 - Using One Hot Encodings](#2-3)\n",
        "        - [Exercise 3 - one_hot_matrix](#ex-3)\n",
        "    - [2.4 - Initialize the Parameters](#2-4)\n",
        "        - [Exercise 4 - initialize_parameters](#ex-4)\n",
        "- [3 - Building Your First Neural Network in TensorFlow](#3)\n",
        "    - [3.1 - Implement Forward Propagation](#3-1)\n",
        "        - [Exercise 5 - forward_propagation](#ex-5)\n",
        "    - [3.2 Compute the Cost](#3-2)\n",
        "        - [Exercise 6 - compute_cost](#ex-6)\n",
        "    - [3.3 - Train the Model](#3-3)\n",
        "- [4 - Bibliography](#4)"
      ]
    },
    {
      "cell_type": "markdown",
      "metadata": {
        "id": "mnJvhr6y5c8K"
      },
      "source": [
        "<a name='1'></a>\n",
        "## 1 - Packages"
      ]
    },
    {
      "cell_type": "code",
      "metadata": {
        "id": "5Ad0X0N05c8L"
      },
      "source": [
        "import h5py\n",
        "import numpy as np\n",
        "import tensorflow as tf\n",
        "import matplotlib.pyplot as plt\n",
        "from tensorflow.python.framework.ops import EagerTensor\n",
        "from tensorflow.python.ops.resource_variable_ops import ResourceVariable\n",
        "import time"
      ],
      "execution_count": null,
      "outputs": []
    },
    {
      "cell_type": "markdown",
      "metadata": {
        "id": "OYVZk0Dd5c8L"
      },
      "source": [
        "<a name='1-1'></a>\n",
        "### 1.1 - Checking TensorFlow Version \n",
        "\n",
        "You will be using v2.3 for this assignment, for maximum speed and efficiency."
      ]
    },
    {
      "cell_type": "code",
      "metadata": {
        "id": "-9Qcdjhj5c8M",
        "outputId": "49fa8573-8c48-4117-fcd6-a905f65f0e9e"
      },
      "source": [
        "tf.__version__"
      ],
      "execution_count": null,
      "outputs": [
        {
          "output_type": "execute_result",
          "data": {
            "text/plain": [
              "'2.3.0'"
            ]
          },
          "metadata": {
            "tags": []
          },
          "execution_count": 2
        }
      ]
    },
    {
      "cell_type": "markdown",
      "metadata": {
        "id": "irddoMp95c8N"
      },
      "source": [
        "<a name='2'></a>\n",
        "## 2 - Basic Optimization with GradientTape\n",
        "\n",
        "The beauty of TensorFlow 2 is in its simplicity. Basically, all you need to do is implement forward propagation through a computational graph. TensorFlow will compute the derivatives for you, by moving backwards through the graph recorded with `GradientTape`. All that's left for you to do then is specify the cost function and optimizer you want to use! \n",
        "\n",
        "When writing a TensorFlow program, the main object to get used and transformed is the `tf.Tensor`. These tensors are the TensorFlow equivalent of Numpy arrays, i.e. multidimensional arrays of a given data type that also contain information about the computational graph.\n",
        "\n",
        "Below, you'll use `tf.Variable` to store the state of your variables. Variables can only be created once as its initial value defines the variable shape and type. Additionally, the `dtype` arg in `tf.Variable` can be set to allow data to be converted to that type. But if none is specified, either the datatype will be kept if the initial value is a Tensor, or `convert_to_tensor` will decide. It's generally best for you to specify directly, so nothing breaks!\n"
      ]
    },
    {
      "cell_type": "markdown",
      "metadata": {
        "id": "4zBncU6Z5c8O"
      },
      "source": [
        "Here you'll call the TensorFlow dataset created on a HDF5 file, which you can use in place of a Numpy array to store your datasets. You can think of this as a TensorFlow data generator! \n",
        "\n",
        "You will use the Hand sign data set, that is composed of images with shape 64x64x3."
      ]
    },
    {
      "cell_type": "code",
      "metadata": {
        "id": "xmWpkxoM5c8O"
      },
      "source": [
        "train_dataset = h5py.File('datasets/train_signs.h5', \"r\")\n",
        "test_dataset = h5py.File('datasets/test_signs.h5', \"r\")"
      ],
      "execution_count": null,
      "outputs": []
    },
    {
      "cell_type": "code",
      "metadata": {
        "id": "MhszKw5I5c8Q"
      },
      "source": [
        "x_train = tf.data.Dataset.from_tensor_slices(train_dataset['train_set_x'])\n",
        "y_train = tf.data.Dataset.from_tensor_slices(train_dataset['train_set_y'])\n",
        "\n",
        "x_test = tf.data.Dataset.from_tensor_slices(test_dataset['test_set_x'])\n",
        "y_test = tf.data.Dataset.from_tensor_slices(test_dataset['test_set_y'])"
      ],
      "execution_count": null,
      "outputs": []
    },
    {
      "cell_type": "code",
      "metadata": {
        "id": "321eJ7yu5c8Q",
        "outputId": "6720b871-6bfb-412d-ed76-8ee1a1131071"
      },
      "source": [
        "type(x_train)"
      ],
      "execution_count": null,
      "outputs": [
        {
          "output_type": "execute_result",
          "data": {
            "text/plain": [
              "tensorflow.python.data.ops.dataset_ops.TensorSliceDataset"
            ]
          },
          "metadata": {
            "tags": []
          },
          "execution_count": 5
        }
      ]
    },
    {
      "cell_type": "markdown",
      "metadata": {
        "id": "M-oGSrQQ5c8R"
      },
      "source": [
        "Since TensorFlow Datasets are generators, you can't access directly the contents unless you iterate over them in a for loop, or by explicitly creating a Python iterator using `iter` and consuming its\n",
        "elements using `next`. Also, you can inspect the `shape` and `dtype` of each element using the `element_spec` attribute."
      ]
    },
    {
      "cell_type": "code",
      "metadata": {
        "id": "ZhunYtl85c8R",
        "outputId": "7c021ed2-00a5-410b-d923-16bf72bc9188"
      },
      "source": [
        "print(y_train.element_spec)"
      ],
      "execution_count": null,
      "outputs": [
        {
          "output_type": "stream",
          "text": [
            "TensorSpec(shape=(), dtype=tf.int64, name=None)\n"
          ],
          "name": "stdout"
        }
      ]
    },
    {
      "cell_type": "code",
      "metadata": {
        "id": "P-02Ep1o5c8S",
        "outputId": "5243d55d-7b3f-404c-9db7-2b4254916db7"
      },
      "source": [
        "print(next(iter(x_train)))"
      ],
      "execution_count": null,
      "outputs": [
        {
          "output_type": "stream",
          "text": [
            "tf.Tensor(\n",
            "[[[227 220 214]\n",
            "  [227 221 215]\n",
            "  [227 222 215]\n",
            "  ...\n",
            "  [232 230 224]\n",
            "  [231 229 222]\n",
            "  [230 229 221]]\n",
            "\n",
            " [[227 221 214]\n",
            "  [227 221 215]\n",
            "  [228 221 215]\n",
            "  ...\n",
            "  [232 230 224]\n",
            "  [231 229 222]\n",
            "  [231 229 221]]\n",
            "\n",
            " [[227 221 214]\n",
            "  [227 221 214]\n",
            "  [227 221 215]\n",
            "  ...\n",
            "  [232 230 224]\n",
            "  [231 229 223]\n",
            "  [230 229 221]]\n",
            "\n",
            " ...\n",
            "\n",
            " [[119  81  51]\n",
            "  [124  85  55]\n",
            "  [127  87  58]\n",
            "  ...\n",
            "  [210 211 211]\n",
            "  [211 212 210]\n",
            "  [210 211 210]]\n",
            "\n",
            " [[119  79  51]\n",
            "  [124  84  55]\n",
            "  [126  85  56]\n",
            "  ...\n",
            "  [210 211 210]\n",
            "  [210 211 210]\n",
            "  [209 210 209]]\n",
            "\n",
            " [[119  81  51]\n",
            "  [123  83  55]\n",
            "  [122  82  54]\n",
            "  ...\n",
            "  [209 210 210]\n",
            "  [209 210 209]\n",
            "  [208 209 209]]], shape=(64, 64, 3), dtype=uint8)\n"
          ],
          "name": "stdout"
        }
      ]
    },
    {
      "cell_type": "code",
      "metadata": {
        "id": "9Ahv2tY05c8S",
        "outputId": "359c5c3b-67ec-4ad9-dc32-eafa9de18a59"
      },
      "source": [
        "for element in x_train:\n",
        "    print(element)\n",
        "    break"
      ],
      "execution_count": null,
      "outputs": [
        {
          "output_type": "stream",
          "text": [
            "tf.Tensor(\n",
            "[[[227 220 214]\n",
            "  [227 221 215]\n",
            "  [227 222 215]\n",
            "  ...\n",
            "  [232 230 224]\n",
            "  [231 229 222]\n",
            "  [230 229 221]]\n",
            "\n",
            " [[227 221 214]\n",
            "  [227 221 215]\n",
            "  [228 221 215]\n",
            "  ...\n",
            "  [232 230 224]\n",
            "  [231 229 222]\n",
            "  [231 229 221]]\n",
            "\n",
            " [[227 221 214]\n",
            "  [227 221 214]\n",
            "  [227 221 215]\n",
            "  ...\n",
            "  [232 230 224]\n",
            "  [231 229 223]\n",
            "  [230 229 221]]\n",
            "\n",
            " ...\n",
            "\n",
            " [[119  81  51]\n",
            "  [124  85  55]\n",
            "  [127  87  58]\n",
            "  ...\n",
            "  [210 211 211]\n",
            "  [211 212 210]\n",
            "  [210 211 210]]\n",
            "\n",
            " [[119  79  51]\n",
            "  [124  84  55]\n",
            "  [126  85  56]\n",
            "  ...\n",
            "  [210 211 210]\n",
            "  [210 211 210]\n",
            "  [209 210 209]]\n",
            "\n",
            " [[119  81  51]\n",
            "  [123  83  55]\n",
            "  [122  82  54]\n",
            "  ...\n",
            "  [209 210 210]\n",
            "  [209 210 209]\n",
            "  [208 209 209]]], shape=(64, 64, 3), dtype=uint8)\n"
          ],
          "name": "stdout"
        }
      ]
    },
    {
      "cell_type": "markdown",
      "metadata": {
        "id": "6SV4Kspy5c8T"
      },
      "source": [
        "There's one more additional difference between TensorFlow datasets and Numpy arrays: If you need to transform one, you would invoke the `map` method to apply the function passed as an argument to each of the elements."
      ]
    },
    {
      "cell_type": "code",
      "metadata": {
        "id": "WKH9m5dN5c8T"
      },
      "source": [
        "def normalize(image):\n",
        "    \"\"\"\n",
        "    Transform an image into a tensor of shape (64 * 64 * 3, 1)\n",
        "    and normalize its components.\n",
        "    \n",
        "    Arguments\n",
        "    image - Tensor.\n",
        "    \n",
        "    Returns: \n",
        "    result -- Transformed tensor \n",
        "    \"\"\"\n",
        "    image = tf.cast(image, tf.float32) / 256.0\n",
        "    image = tf.reshape(image, [-1,1])\n",
        "    return image"
      ],
      "execution_count": null,
      "outputs": []
    },
    {
      "cell_type": "code",
      "metadata": {
        "id": "rpU8LMsL5c8U"
      },
      "source": [
        "new_train = x_train.map(normalize)\n",
        "new_test = x_test.map(normalize)"
      ],
      "execution_count": null,
      "outputs": []
    },
    {
      "cell_type": "code",
      "metadata": {
        "id": "DBnPj1ne5c8U",
        "outputId": "34fe4f04-f2fc-416d-c07d-844f4d32e216"
      },
      "source": [
        "new_train.element_spec"
      ],
      "execution_count": null,
      "outputs": [
        {
          "output_type": "execute_result",
          "data": {
            "text/plain": [
              "TensorSpec(shape=(12288, 1), dtype=tf.float32, name=None)"
            ]
          },
          "metadata": {
            "tags": []
          },
          "execution_count": 11
        }
      ]
    },
    {
      "cell_type": "code",
      "metadata": {
        "id": "0HaSxNtU5c8U",
        "outputId": "695f43bb-c936-4f2a-a1f8-73bac1c9da1e"
      },
      "source": [
        "print(next(iter(new_train)))"
      ],
      "execution_count": null,
      "outputs": [
        {
          "output_type": "stream",
          "text": [
            "tf.Tensor(\n",
            "[[0.88671875]\n",
            " [0.859375  ]\n",
            " [0.8359375 ]\n",
            " ...\n",
            " [0.8125    ]\n",
            " [0.81640625]\n",
            " [0.81640625]], shape=(12288, 1), dtype=float32)\n"
          ],
          "name": "stdout"
        }
      ]
    },
    {
      "cell_type": "markdown",
      "metadata": {
        "id": "ICrQrx7G5c8U"
      },
      "source": [
        "<a name='2-1'></a>\n",
        "### 2.1 - Linear Function\n",
        "\n",
        "Let's begin this programming exercise by computing the following equation: $Y = WX + b$, where $W$ and $X$ are random matrices and b is a random vector. \n",
        "\n",
        "<a name='ex-1'></a>\n",
        "### Exercise 1 - linear_function\n",
        "\n",
        "Compute $WX + b$ where $W, X$, and $b$ are drawn from a random normal distribution. W is of shape (4, 3), X is (3,1) and b is (4,1). As an example, this is how to define a constant X with the shape (3,1):\n",
        "```python\n",
        "X = tf.constant(np.random.randn(3,1), name = \"X\")\n",
        "\n",
        "```\n",
        "Note that the difference between `tf.constant` and `tf.Variable` is that you can modify the state of a `tf.Variable` but cannot change the state of a `tf.constant`.\n",
        "\n",
        "You might find the following functions helpful: \n",
        "- tf.matmul(..., ...) to do a matrix multiplication\n",
        "- tf.add(..., ...) to do an addition\n",
        "- np.random.randn(...) to initialize randomly"
      ]
    },
    {
      "cell_type": "code",
      "metadata": {
        "deletable": false,
        "nbgrader": {
          "cell_type": "code",
          "checksum": "397d354ecaa1a28936096002cde11279",
          "grade": false,
          "grade_id": "cell-002e5736767021c0",
          "locked": false,
          "schema_version": 3,
          "solution": true,
          "task": false
        },
        "id": "QdBkNFQV5c8U"
      },
      "source": [
        "# GRADED FUNCTION: linear_function\n",
        "\n",
        "def linear_function():\n",
        "    \"\"\"\n",
        "    Implements a linear function: \n",
        "            Initializes X to be a random tensor of shape (3,1)\n",
        "            Initializes W to be a random tensor of shape (4,3)\n",
        "            Initializes b to be a random tensor of shape (4,1)\n",
        "    Returns: \n",
        "    result -- Y = WX + b \n",
        "    \"\"\"\n",
        "\n",
        "    np.random.seed(1)\n",
        "    \n",
        "    \"\"\"\n",
        "    Note, to ensure that the \"random\" numbers generated match the expected results,\n",
        "    please create the variables in the order given in the starting code below.\n",
        "    (Do not re-arrange the order).\n",
        "    \"\"\"\n",
        "    # (approx. 4 lines)\n",
        "    # X = ...\n",
        "    # W = ...\n",
        "    # b = ...\n",
        "    # Y = ...\n",
        "    # YOUR CODE STARTS HERE\n",
        "    X = np.random.randn(3, 1)\n",
        "    W = np.random.randn(4, 3)\n",
        "    b = np.random.randn(4, 1)\n",
        "    Y = tf.add(tf.matmul(W, X), b)\n",
        "    \n",
        "    # YOUR CODE ENDS HERE\n",
        "    return Y"
      ],
      "execution_count": null,
      "outputs": []
    },
    {
      "cell_type": "code",
      "metadata": {
        "deletable": false,
        "editable": false,
        "nbgrader": {
          "cell_type": "code",
          "checksum": "3526a7fd39649d2a6516031720e46748",
          "grade": true,
          "grade_id": "cell-b4318ea155f136ab",
          "locked": true,
          "points": 10,
          "schema_version": 3,
          "solution": false,
          "task": false
        },
        "id": "to5uPBe_5c8V",
        "outputId": "6e58aab9-2ec7-4959-ecbf-361aeaef6cca"
      },
      "source": [
        "result = linear_function()\n",
        "print(result)\n",
        "\n",
        "assert type(result) == EagerTensor, \"Use the TensorFlow API\"\n",
        "assert np.allclose(result, [[-2.15657382], [ 2.95891446], [-1.08926781], [-0.84538042]]), \"Error\"\n",
        "print(\"\\033[92mAll test passed\")\n"
      ],
      "execution_count": null,
      "outputs": [
        {
          "output_type": "stream",
          "text": [
            "tf.Tensor(\n",
            "[[-2.15657382]\n",
            " [ 2.95891446]\n",
            " [-1.08926781]\n",
            " [-0.84538042]], shape=(4, 1), dtype=float64)\n",
            "\u001b[92mAll test passed\n"
          ],
          "name": "stdout"
        }
      ]
    },
    {
      "cell_type": "markdown",
      "metadata": {
        "id": "bElx22AX5c8V"
      },
      "source": [
        "**Expected Output**: \n",
        "\n",
        "```\n",
        "result = \n",
        "[[-2.15657382]\n",
        " [ 2.95891446]\n",
        " [-1.08926781]\n",
        " [-0.84538042]]\n",
        "```"
      ]
    },
    {
      "cell_type": "markdown",
      "metadata": {
        "id": "GLXiqXSK5c8V"
      },
      "source": [
        "<a name='2-2'></a>\n",
        "### 2.2 - Computing the Sigmoid \n",
        "Amazing! You just implemented a linear function. TensorFlow offers a variety of commonly used neural network functions like `tf.sigmoid` and `tf.softmax`.\n",
        "\n",
        "For this exercise, compute the sigmoid of z. \n",
        "\n",
        "In this exercise, you will: Cast your tensor to type `float32` using `tf.cast`, then compute the sigmoid using `tf.keras.activations.sigmoid`. \n",
        "\n",
        "<a name='ex-2'></a>\n",
        "### Exercise 2 - sigmoid\n",
        "\n",
        "Implement the sigmoid function below. You should use the following: \n",
        "\n",
        "- `tf.cast(\"...\", tf.float32)`\n",
        "- `tf.keras.activations.sigmoid(\"...\")`"
      ]
    },
    {
      "cell_type": "code",
      "metadata": {
        "deletable": false,
        "nbgrader": {
          "cell_type": "code",
          "checksum": "00b8d3d2338bb2ed68c9e316e5de9581",
          "grade": false,
          "grade_id": "cell-038bb4b7e61dd070",
          "locked": false,
          "schema_version": 3,
          "solution": true,
          "task": false
        },
        "id": "PQvEfs345c8V"
      },
      "source": [
        "# GRADED FUNCTION: sigmoid\n",
        "\n",
        "def sigmoid(z):\n",
        "    \n",
        "    \"\"\"\n",
        "    Computes the sigmoid of z\n",
        "    \n",
        "    Arguments:\n",
        "    z -- input value, scalar or vector\n",
        "    \n",
        "    Returns: \n",
        "    a -- (tf.float32) the sigmoid of z\n",
        "    \"\"\"\n",
        "    # tf.keras.activations.sigmoid requires float16, float32, float64, complex64, or complex128.\n",
        "    \n",
        "    # (approx. 2 lines)\n",
        "    # z = ...\n",
        "    # a = ...\n",
        "    # YOUR CODE STARTS HERE\n",
        "    z=tf.cast(z,tf.float32)\n",
        "    a=tf.keras.activations.sigmoid(z)\n",
        "    # YOUR CODE ENDS HERE\n",
        "    return a\n"
      ],
      "execution_count": null,
      "outputs": []
    },
    {
      "cell_type": "code",
      "metadata": {
        "deletable": false,
        "editable": false,
        "nbgrader": {
          "cell_type": "code",
          "checksum": "ad1c73949744ba2205a0ad0d6f395915",
          "grade": true,
          "grade_id": "cell-a04f348c3fdbc2f2",
          "locked": true,
          "points": 10,
          "schema_version": 3,
          "solution": false,
          "task": false
        },
        "id": "PDqtg93U5c8W",
        "outputId": "36200f40-83aa-408d-fdc9-bf634ef978ea"
      },
      "source": [
        "result = sigmoid(-1)\n",
        "print (\"type: \" + str(type(result)))\n",
        "print (\"dtype: \" + str(result.dtype))\n",
        "print (\"sigmoid(-1) = \" + str(result))\n",
        "print (\"sigmoid(0) = \" + str(sigmoid(0.0)))\n",
        "print (\"sigmoid(12) = \" + str(sigmoid(12)))\n",
        "\n",
        "def sigmoid_test(target):\n",
        "    result = target(0)\n",
        "    assert(type(result) == EagerTensor)\n",
        "    assert (result.dtype == tf.float32)\n",
        "    assert sigmoid(0) == 0.5, \"Error\"\n",
        "    assert sigmoid(-1) == 0.26894143, \"Error\"\n",
        "    assert sigmoid(12) == 0.9999939, \"Error\"\n",
        "\n",
        "    print(\"\\033[92mAll test passed\")\n",
        "\n",
        "sigmoid_test(sigmoid)"
      ],
      "execution_count": null,
      "outputs": [
        {
          "output_type": "stream",
          "text": [
            "type: <class 'tensorflow.python.framework.ops.EagerTensor'>\n",
            "dtype: <dtype: 'float32'>\n",
            "sigmoid(-1) = tf.Tensor(0.26894143, shape=(), dtype=float32)\n",
            "sigmoid(0) = tf.Tensor(0.5, shape=(), dtype=float32)\n",
            "sigmoid(12) = tf.Tensor(0.9999939, shape=(), dtype=float32)\n",
            "\u001b[92mAll test passed\n"
          ],
          "name": "stdout"
        }
      ]
    },
    {
      "cell_type": "markdown",
      "metadata": {
        "id": "6BFgXm_a5c8W"
      },
      "source": [
        "**Expected Output**: \n",
        "<table>\n",
        "<tr> \n",
        "<td>\n",
        "type\n",
        "</td>\n",
        "<td>\n",
        "class 'tensorflow.python.framework.ops.EagerTensor'\n",
        "</td>\n",
        "</tr><tr> \n",
        "<td>\n",
        "dtype\n",
        "</td>\n",
        "<td>\n",
        "\"dtype: 'float32'\n",
        "</td>\n",
        "</tr>\n",
        "<tr> \n",
        "<td>\n",
        "Sigmoid(-1)\n",
        "</td>\n",
        "<td>\n",
        "0.2689414\n",
        "</td>\n",
        "</tr>\n",
        "<tr> \n",
        "<td>\n",
        "Sigmoid(0)\n",
        "</td>\n",
        "<td>\n",
        "0.5\n",
        "</td>\n",
        "</tr>\n",
        "<tr> \n",
        "<td>\n",
        "Sigmoid(12)\n",
        "</td>\n",
        "<td>\n",
        "0.999994\n",
        "</td>\n",
        "</tr> \n",
        "\n",
        "</table> "
      ]
    },
    {
      "cell_type": "markdown",
      "metadata": {
        "id": "dQt6hyy_5c8X"
      },
      "source": [
        "<a name='2-3'></a>\n",
        "### 2.3 - Using One Hot Encodings\n",
        "\n",
        "Many times in deep learning you will have a $Y$ vector with numbers ranging from $0$ to $C-1$, where $C$ is the number of classes. If $C$ is for example 4, then you might have the following y vector which you will need to convert like this:\n",
        "\n",
        "\n",
        "<img src=\"images/onehot.png\" style=\"width:600px;height:150px;\">\n",
        "\n",
        "This is called \"one hot\" encoding, because in the converted representation, exactly one element of each column is \"hot\" (meaning set to 1). To do this conversion in numpy, you might have to write a few lines of code. In TensorFlow, you can use one line of code: \n",
        "\n",
        "- [tf.one_hot(labels, depth, axis=0)](https://www.tensorflow.org/api_docs/python/tf/one_hot)\n",
        "\n",
        "`axis=0` indicates the new axis is created at dimension 0\n",
        "\n",
        "<a name='ex-3'></a>\n",
        "### Exercise 3 - one_hot_matrix\n",
        "\n",
        "Implement the function below to take one label and the total number of classes $C$, and return the one hot encoding in a column wise matrix. Use `tf.one_hot()` to do this, and `tf.reshape()` to reshape your one hot tensor! \n",
        "\n",
        "- `tf.reshape(tensor, shape)`"
      ]
    },
    {
      "cell_type": "code",
      "metadata": {
        "deletable": false,
        "nbgrader": {
          "cell_type": "code",
          "checksum": "44bfa91af0e57ca117ebf3acce902a28",
          "grade": false,
          "grade_id": "cell-15d9db613d8007bb",
          "locked": false,
          "schema_version": 3,
          "solution": true,
          "task": false
        },
        "id": "MpD5H99v5c8Y"
      },
      "source": [
        "# GRADED FUNCTION: one_hot_matrix\n",
        "def one_hot_matrix(label, depth=6):\n",
        "    \"\"\"\n",
        "    Computes the one hot encoding for a single label\n",
        "    \n",
        "    Arguments:\n",
        "        label --  (int) Categorical labels\n",
        "        depth --  (int) Number of different classes that label can take\n",
        "    \n",
        "    Returns:\n",
        "         one_hot -- tf.Tensor A single-column matrix with the one hot encoding.\n",
        "    \"\"\"\n",
        "    # (approx. 1 line)\n",
        "    # one_hot = ...\n",
        "    # YOUR CODE STARTS HERE\n",
        "    one_hot = tf.one_hot(label, depth, axis = 0)\n",
        "    one_hot = tf.reshape(one_hot, (-1,1))\n",
        "    \n",
        "    # YOUR CODE ENDS HERE\n",
        "    return one_hot"
      ],
      "execution_count": null,
      "outputs": []
    },
    {
      "cell_type": "code",
      "metadata": {
        "deletable": false,
        "editable": false,
        "nbgrader": {
          "cell_type": "code",
          "checksum": "1fb1a7bda24387b5aee077ac4e6ca3af",
          "grade": true,
          "grade_id": "cell-100c1b3328215913",
          "locked": true,
          "points": 10,
          "schema_version": 3,
          "solution": false,
          "task": false
        },
        "id": "ONIT84uP5c8Y",
        "outputId": "549ee43e-862e-48f3-9714-70bfc516a495"
      },
      "source": [
        "def one_hot_matrix_test(target):\n",
        "    label = tf.constant(1)\n",
        "    depth = 4\n",
        "    result = target(label, depth)\n",
        "    print(result)\n",
        "    assert result.shape[0] == depth, \"Use the parameter depth\"\n",
        "    assert result.shape[1] == 1, f\"Reshape to have only 1 column\"\n",
        "    assert np.allclose(result,  [[0.], [1.], [0.], [0.]] ), \"Wrong output. Use tf.one_hot\"\n",
        "    result = target(3, depth)\n",
        "    assert np.allclose(result, [[0.], [0.], [0.], [1.]] ), \"Wrong output. Use tf.one_hot\"\n",
        "    \n",
        "    print(\"\\033[92mAll test passed\")\n",
        "\n",
        "one_hot_matrix_test(one_hot_matrix)"
      ],
      "execution_count": null,
      "outputs": [
        {
          "output_type": "stream",
          "text": [
            "tf.Tensor(\n",
            "[[0.]\n",
            " [1.]\n",
            " [0.]\n",
            " [0.]], shape=(4, 1), dtype=float32)\n",
            "\u001b[92mAll test passed\n"
          ],
          "name": "stdout"
        }
      ]
    },
    {
      "cell_type": "markdown",
      "metadata": {
        "id": "recglCoH5c8Y"
      },
      "source": [
        "**Expected output**\n",
        "```\n",
        "tf.Tensor(\n",
        "[[0.]\n",
        " [1.]\n",
        " [0.]\n",
        " [0.]], shape=(4, 1), dtype=float32)\n",
        "```"
      ]
    },
    {
      "cell_type": "code",
      "metadata": {
        "id": "ZMEUrFnk5c8Z"
      },
      "source": [
        "new_y_test = y_test.map(one_hot_matrix)\n",
        "new_y_train = y_train.map(one_hot_matrix)"
      ],
      "execution_count": null,
      "outputs": []
    },
    {
      "cell_type": "code",
      "metadata": {
        "id": "CfcXvbsN5c8Z",
        "outputId": "7e4c5b25-aceb-48ac-c852-ac4795a2ff2b"
      },
      "source": [
        "print(next(iter(new_y_test)))"
      ],
      "execution_count": null,
      "outputs": [
        {
          "output_type": "stream",
          "text": [
            "tf.Tensor(\n",
            "[[1.]\n",
            " [0.]\n",
            " [0.]\n",
            " [0.]\n",
            " [0.]\n",
            " [0.]], shape=(6, 1), dtype=float32)\n"
          ],
          "name": "stdout"
        }
      ]
    },
    {
      "cell_type": "markdown",
      "metadata": {
        "id": "gjxab1Gd5c8Z"
      },
      "source": [
        "<a name='2-4'></a>\n",
        "### 2.4 - Initialize the Parameters \n",
        "\n",
        "Now you'll initialize a vector of numbers between zero and one. The function you'll be calling is `tf.keras.initializers.GlorotNormal`, which draws samples from a truncated normal distribution centered on 0, with `stddev = sqrt(2 / (fan_in + fan_out))`, where `fan_in` is the number of input units and `fan_out` is the number of output units, both in the weight tensor. \n",
        "\n",
        "To initialize with zeros or ones you could use `tf.zeros()` or `tf.ones()` instead. \n",
        "\n",
        "<a name='ex-4'></a>\n",
        "### Exercise 4 - initialize_parameters\n",
        "\n",
        "Implement the function below to take in a shape and to return an array of numbers between -1 and 1. \n",
        "\n",
        " - `tf.keras.initializers.GlorotNormal(seed=1)`\n",
        " - `tf.Variable(initializer(shape=())`"
      ]
    },
    {
      "cell_type": "code",
      "metadata": {
        "deletable": false,
        "nbgrader": {
          "cell_type": "code",
          "checksum": "da48416c74797c83152e1080b08afb9d",
          "grade": false,
          "grade_id": "cell-1d5716c48a16debf",
          "locked": false,
          "schema_version": 3,
          "solution": true,
          "task": false
        },
        "id": "Cweu023q5c8Z"
      },
      "source": [
        "# GRADED FUNCTION: initialize_parameters\n",
        "\n",
        "def initialize_parameters():\n",
        "    \"\"\"\n",
        "    Initializes parameters to build a neural network with TensorFlow. The shapes are:\n",
        "                        W1 : [25, 12288]\n",
        "                        b1 : [25, 1]\n",
        "                        W2 : [12, 25]\n",
        "                        b2 : [12, 1]\n",
        "                        W3 : [6, 12]\n",
        "                        b3 : [6, 1]\n",
        "    \n",
        "    Returns:\n",
        "    parameters -- a dictionary of tensors containing W1, b1, W2, b2, W3, b3\n",
        "    \"\"\"\n",
        "                                \n",
        "    initializer = tf.keras.initializers.GlorotNormal(seed=1)   \n",
        "    #(approx. 6 lines of code)\n",
        "    # W1 = ...\n",
        "    # b1 = ...\n",
        "    # W2 = ...\n",
        "    # b2 = ...\n",
        "    # W3 = ...\n",
        "    # b3 = ...\n",
        "    # YOUR CODE STARTS HERE\n",
        "    W1=tf.Variable(initializer(shape=([25,12288])))\n",
        "    b1=tf.Variable(initializer(shape=([25,1])))\n",
        "    W2=tf.Variable(initializer(shape=([12,25])))\n",
        "    b2=tf.Variable(initializer(shape=([12,1])))\n",
        "    W3=tf.Variable(initializer(shape=([6,12])))\n",
        "    b3=tf.Variable(initializer(shape=([6,1])))\n",
        "    # YOUR CODE ENDS HERE\n",
        "\n",
        "    parameters = {\"W1\": W1,\n",
        "                  \"b1\": b1,\n",
        "                  \"W2\": W2,\n",
        "                  \"b2\": b2,\n",
        "                  \"W3\": W3,\n",
        "                  \"b3\": b3}\n",
        "    \n",
        "    return parameters"
      ],
      "execution_count": null,
      "outputs": []
    },
    {
      "cell_type": "code",
      "metadata": {
        "deletable": false,
        "editable": false,
        "nbgrader": {
          "cell_type": "code",
          "checksum": "dd3fe0b5ed777771156c071d9373e47a",
          "grade": true,
          "grade_id": "cell-11012e1fada40919",
          "locked": true,
          "points": 10,
          "schema_version": 3,
          "solution": false,
          "task": false
        },
        "id": "v60FTkiV5c8a",
        "outputId": "a114f3af-fb5f-4455-bd66-75fa86a21651"
      },
      "source": [
        "def initialize_parameters_test(target):\n",
        "    parameters = target()\n",
        "\n",
        "    values = {\"W1\": (25, 12288),\n",
        "              \"b1\": (25, 1),\n",
        "              \"W2\": (12, 25),\n",
        "              \"b2\": (12, 1),\n",
        "              \"W3\": (6, 12),\n",
        "              \"b3\": (6, 1)}\n",
        "\n",
        "    for key in parameters:\n",
        "        print(f\"{key} shape: {tuple(parameters[key].shape)}\")\n",
        "        assert type(parameters[key]) == ResourceVariable, \"All parameter must be created using tf.Variable\"\n",
        "        assert tuple(parameters[key].shape) == values[key], f\"{key}: wrong shape\"\n",
        "        assert np.abs(np.mean(parameters[key].numpy())) < 0.5,  f\"{key}: Use the GlorotNormal initializer\"\n",
        "        assert np.std(parameters[key].numpy()) > 0 and np.std(parameters[key].numpy()) < 1, f\"{key}: Use the GlorotNormal initializer\"\n",
        "\n",
        "    print(\"\\033[92mAll test passed\")\n",
        "    \n",
        "initialize_parameters_test(initialize_parameters)"
      ],
      "execution_count": null,
      "outputs": [
        {
          "output_type": "stream",
          "text": [
            "W1 shape: (25, 12288)\n",
            "b1 shape: (25, 1)\n",
            "W2 shape: (12, 25)\n",
            "b2 shape: (12, 1)\n",
            "W3 shape: (6, 12)\n",
            "b3 shape: (6, 1)\n",
            "\u001b[92mAll test passed\n"
          ],
          "name": "stdout"
        }
      ]
    },
    {
      "cell_type": "markdown",
      "metadata": {
        "id": "N9A8O5hY5c8a"
      },
      "source": [
        "**Expected output**\n",
        "```\n",
        "W1 shape: (25, 12288)\n",
        "b1 shape: (25, 1)\n",
        "W2 shape: (12, 25)\n",
        "b2 shape: (12, 1)\n",
        "W3 shape: (6, 12)\n",
        "b3 shape: (6, 1)\n",
        "```"
      ]
    },
    {
      "cell_type": "code",
      "metadata": {
        "id": "-xd3xMak5c8a"
      },
      "source": [
        "parameters = initialize_parameters()"
      ],
      "execution_count": null,
      "outputs": []
    },
    {
      "cell_type": "markdown",
      "metadata": {
        "id": "OZ_kfb1U5c8a"
      },
      "source": [
        "<a name='3'></a>\n",
        "## 3 - Building Your First Neural Network in TensorFlow\n",
        "\n",
        "In this part of the assignment you will build a neural network using TensorFlow. Remember that there are two parts to implementing a TensorFlow model:\n",
        "\n",
        "- Implement forward propagation\n",
        "- Retrieve the gradients and train the model\n",
        "\n",
        "Let's get into it!"
      ]
    },
    {
      "cell_type": "markdown",
      "metadata": {
        "id": "Rd4V-z8D5c8b"
      },
      "source": [
        "<a name='3-1'></a>\n",
        "### 3.1 - Implement Forward Propagation \n",
        "\n",
        "One of TensorFlow's great strengths lies in the fact that you only need to implement the forward propagation function. \n",
        "\n",
        "Here, you'll use a TensorFlow decorator, `@tf.function`, which builds a  computational graph to execute the function. `@tf.function` is polymorphic, which comes in very handy, as it can support arguments with different data types or shapes, and be used with other languages, such as Python. This means that you can use data dependent control flow statements.\n",
        "\n",
        "When you use `@tf.function` to implement forward propagation, the computational graph is activated, which keeps track of the operations. This is so you can calculate your gradients with backpropagation.\n",
        "\n",
        "<a name='ex-5'></a>\n",
        "### Exercise 5 - forward_propagation\n",
        "\n",
        "Implement the `forward_propagation` function.\n",
        "\n",
        "**Note** Use only the TF API. \n",
        "\n",
        "- tf.math.add\n",
        "- tf.linalg.matmul\n",
        "- tf.keras.activations.relu\n"
      ]
    },
    {
      "cell_type": "code",
      "metadata": {
        "deletable": false,
        "nbgrader": {
          "cell_type": "code",
          "checksum": "7c3d7c28e47e314c17d3f35e5a033b15",
          "grade": false,
          "grade_id": "cell-23b6d82b3443e298",
          "locked": false,
          "schema_version": 3,
          "solution": true,
          "task": false
        },
        "id": "LlB-Z7_65c8b"
      },
      "source": [
        "# GRADED FUNCTION: forward_propagation\n",
        "\n",
        "@tf.function\n",
        "def forward_propagation(X, parameters):\n",
        "    \"\"\"\n",
        "    Implements the forward propagation for the model: LINEAR -> RELU -> LINEAR -> RELU -> LINEAR\n",
        "    \n",
        "    Arguments:\n",
        "    X -- input dataset placeholder, of shape (input size, number of examples)\n",
        "    parameters -- python dictionary containing your parameters \"W1\", \"b1\", \"W2\", \"b2\", \"W3\", \"b3\"\n",
        "                  the shapes are given in initialize_parameters\n",
        "\n",
        "    Returns:\n",
        "    Z3 -- the output of the last LINEAR unit\n",
        "    \"\"\"\n",
        "    \n",
        "    # Retrieve the parameters from the dictionary \"parameters\" \n",
        "    W1 = parameters['W1']\n",
        "    b1 = parameters['b1']\n",
        "    W2 = parameters['W2']\n",
        "    b2 = parameters['b2']\n",
        "    W3 = parameters['W3']\n",
        "    b3 = parameters['b3']\n",
        "    \n",
        "    #(approx. 5 lines)                   # Numpy Equivalents:\n",
        "    # Z1 = ...                           # Z1 = np.dot(W1, X) + b1\n",
        "    # A1 = ...                           # A1 = relu(Z1)\n",
        "    # Z2 = ...                           # Z2 = np.dot(W2, A1) + b2\n",
        "    # A2 = ...                           # A2 = relu(Z2)\n",
        "    # Z3 = ...                           # Z3 = np.dot(W3, A2) + b3\n",
        "    # YOUR CODE STARTS HERE\n",
        "    Z1 = tf.add(tf.matmul(W1, X), b1)                      # Z1 = np.dot(W1, X) + b1\n",
        "    A1 = tf.nn.relu(Z1)                                    # A1 = relu(Z1)\n",
        "    Z2 = tf.add(tf.matmul(W2, A1), b2)                     # Z2 = np.dot(W2, a1) + b2\n",
        "    A2 = tf.nn.relu(Z2)                                    # A2 = relu(Z2)\n",
        "    Z3 = tf.add(tf.matmul(W3, A2), b3)                     # Z3 = np.dot(W3,Z2) + b3\n",
        "    \n",
        "    # YOUR CODE ENDS HERE\n",
        "    \n",
        "    return Z3"
      ],
      "execution_count": null,
      "outputs": []
    },
    {
      "cell_type": "code",
      "metadata": {
        "deletable": false,
        "editable": false,
        "nbgrader": {
          "cell_type": "code",
          "checksum": "204b6a74e3c6cbdb3654bdb2ed8f13af",
          "grade": true,
          "grade_id": "cell-728b002a6a88ceb1",
          "locked": true,
          "points": 0,
          "schema_version": 3,
          "solution": false,
          "task": false
        },
        "id": "2rTw47Ua5c8b",
        "outputId": "a6ea3418-0ea4-4f72-f949-03643af8f25d"
      },
      "source": [
        "def forward_propagation_test(target, examples):\n",
        "    for batch in examples:\n",
        "        forward_pass = target(batch, parameters)\n",
        "        assert type(forward_pass) == EagerTensor, \"Your output is not a tensor\"\n",
        "        assert forward_pass.shape == (6, 1), \"Last layer must use W3 and b3\"\n",
        "        assert np.any(forward_pass < 0), \"Don't use a ReLu layer at end of your network\"\n",
        "        assert np.allclose(forward_pass, \n",
        "                           [[-0.13082162],\n",
        "                           [ 0.21228778],\n",
        "                           [ 0.7050022 ],\n",
        "                           [-1.1224034 ],\n",
        "                           [-0.20386729],\n",
        "                           [ 0.9526217 ]]), \"Output does not match\"\n",
        "        print(forward_pass)\n",
        "        break\n",
        "    \n",
        "\n",
        "    print(\"\\033[92mAll test passed\")\n",
        "\n",
        "forward_propagation_test(forward_propagation, new_train)"
      ],
      "execution_count": null,
      "outputs": [
        {
          "output_type": "stream",
          "text": [
            "tf.Tensor(\n",
            "[[-0.13082162]\n",
            " [ 0.21228778]\n",
            " [ 0.7050022 ]\n",
            " [-1.1224034 ]\n",
            " [-0.20386729]\n",
            " [ 0.9526217 ]], shape=(6, 1), dtype=float32)\n",
            "\u001b[92mAll test passed\n"
          ],
          "name": "stdout"
        }
      ]
    },
    {
      "cell_type": "markdown",
      "metadata": {
        "id": "i8VAWhH95c8c"
      },
      "source": [
        "**Expected output**\n",
        "```\n",
        "tf.Tensor(\n",
        "[[-0.13082162]\n",
        " [ 0.21228778]\n",
        " [ 0.7050022 ]\n",
        " [-1.1224034 ]\n",
        " [-0.20386732]\n",
        " [ 0.9526217 ]], shape=(6, 1), dtype=float32)\n",
        "```"
      ]
    },
    {
      "cell_type": "markdown",
      "metadata": {
        "id": "J_xuEy-L5c8c"
      },
      "source": [
        "<a name='3-2'></a>\n",
        "### 3.2 Compute the Cost\n",
        "\n",
        "Here again, the delightful `@tf.function` decorator steps in and saves you time. All you need to do is specify how to compute the cost, and you can do so in one simple step by using:\n",
        "\n",
        "`tf.reduce_mean(tf.keras.losses.binary_crossentropy(y_true = ..., y_pred = ..., from_logits=True))`\n",
        "\n",
        "<a name='ex-6'></a>\n",
        "### Exercise 6 -  compute_cost\n",
        "\n",
        "Implement the cost function below. \n",
        "- It's important to note that the \"`y_pred`\" and \"`y_true`\" inputs of [tf.keras.losses.binary_crossentropy](https://www.tensorflow.org/api_docs/python/tf/keras/losses/binary_crossentropy) are expected to be of shape (number of examples, num_classes). Since both the transpose and the original tensors have the same values, just in different order, the result of calculating the binary_crossentropy should be the same if you transpose or not the logits and labels. Just for reference here is how the Binary Cross entropy is calculated in TensorFlow:\n",
        "\n",
        "``mean_reduce(max(logits, 0) - logits * labels + log(1 + exp(-abs(logits))), axis=-1)``\n",
        "\n",
        "- `tf.reduce_mean` basically does the summation over the examples."
      ]
    },
    {
      "cell_type": "code",
      "metadata": {
        "deletable": false,
        "nbgrader": {
          "cell_type": "code",
          "checksum": "af252bad785c3ddf4a55fa7bc999477a",
          "grade": false,
          "grade_id": "cell-e6cc4d7fefeed231",
          "locked": false,
          "schema_version": 3,
          "solution": true,
          "task": false
        },
        "id": "CpgYvt6B5c8c"
      },
      "source": [
        "# GRADED FUNCTION: compute_cost \n",
        "\n",
        "@tf.function\n",
        "def compute_cost(logits, labels):\n",
        "    \"\"\"\n",
        "    Computes the cost\n",
        "    \n",
        "    Arguments:\n",
        "    logits -- output of forward propagation (output of the last LINEAR unit), of shape (6, number of examples)\n",
        "    labels -- \"true\" labels vector, same shape as Z3\n",
        "    \n",
        "    Returns:\n",
        "    cost - Tensor of the cost function\n",
        "    \"\"\"\n",
        "    \n",
        "    #(1 line of code)\n",
        "    # cost = ...\n",
        "    # YOUR CODE STARTS HERE\n",
        "    cost = tf.reduce_mean(tf.nn.softmax_cross_entropy_with_logits(logits=logits, labels=labels))\n",
        "    \n",
        "    # YOUR CODE ENDS HERE\n",
        "    return cost"
      ],
      "execution_count": null,
      "outputs": []
    },
    {
      "cell_type": "code",
      "metadata": {
        "deletable": false,
        "editable": false,
        "nbgrader": {
          "cell_type": "code",
          "checksum": "938580c5cbcf49a72c1fdcda782cfd8a",
          "grade": true,
          "grade_id": "cell-9bf72affa2e7b1b5",
          "locked": true,
          "points": 10,
          "schema_version": 3,
          "solution": false,
          "task": false
        },
        "id": "DD6NwPUK5c8c",
        "outputId": "c3c846d3-8a51-42a7-b2fe-60b377750e11"
      },
      "source": [
        "def compute_cost_test(target):\n",
        "    labels = np.array([[0., 1.], [0., 0.], [1., 0.]])\n",
        "    logits = np.array([[0.6, 0.4], [0.4, 0.6], [0.4, 0.6]])\n",
        "    result = compute_cost(logits, labels)\n",
        "    print(result)\n",
        "    assert(type(result) == EagerTensor), \"Use the TensorFlow API\"\n",
        "    assert (np.abs(result - (0.7752516 +  0.9752516 + 0.7752516) / 3.0) < 1e-7), \"Test does not match. Did you get the mean of your cost functions?\"\n",
        "\n",
        "    print(\"\\033[92mAll test passed\")\n",
        "\n",
        "compute_cost_test(compute_cost)"
      ],
      "execution_count": null,
      "outputs": [
        {
          "output_type": "stream",
          "text": [
            "tf.Tensor(0.5320925795877279, shape=(), dtype=float64)\n"
          ],
          "name": "stdout"
        },
        {
          "output_type": "error",
          "ename": "AssertionError",
          "evalue": "Test does not match. Did you get the mean of your cost functions?",
          "traceback": [
            "\u001b[0;31m---------------------------------------------------------------------------\u001b[0m",
            "\u001b[0;31mAssertionError\u001b[0m                            Traceback (most recent call last)",
            "\u001b[0;32m<ipython-input-65-58c9bf522b05>\u001b[0m in \u001b[0;36m<module>\u001b[0;34m\u001b[0m\n\u001b[1;32m      9\u001b[0m     \u001b[0mprint\u001b[0m\u001b[0;34m(\u001b[0m\u001b[0;34m\"\\033[92mAll test passed\"\u001b[0m\u001b[0;34m)\u001b[0m\u001b[0;34m\u001b[0m\u001b[0;34m\u001b[0m\u001b[0m\n\u001b[1;32m     10\u001b[0m \u001b[0;34m\u001b[0m\u001b[0m\n\u001b[0;32m---> 11\u001b[0;31m \u001b[0mcompute_cost_test\u001b[0m\u001b[0;34m(\u001b[0m\u001b[0mcompute_cost\u001b[0m\u001b[0;34m)\u001b[0m\u001b[0;34m\u001b[0m\u001b[0;34m\u001b[0m\u001b[0m\n\u001b[0m",
            "\u001b[0;32m<ipython-input-65-58c9bf522b05>\u001b[0m in \u001b[0;36mcompute_cost_test\u001b[0;34m(target)\u001b[0m\n\u001b[1;32m      5\u001b[0m     \u001b[0mprint\u001b[0m\u001b[0;34m(\u001b[0m\u001b[0mresult\u001b[0m\u001b[0;34m)\u001b[0m\u001b[0;34m\u001b[0m\u001b[0;34m\u001b[0m\u001b[0m\n\u001b[1;32m      6\u001b[0m     \u001b[0;32massert\u001b[0m\u001b[0;34m(\u001b[0m\u001b[0mtype\u001b[0m\u001b[0;34m(\u001b[0m\u001b[0mresult\u001b[0m\u001b[0;34m)\u001b[0m \u001b[0;34m==\u001b[0m \u001b[0mEagerTensor\u001b[0m\u001b[0;34m)\u001b[0m\u001b[0;34m,\u001b[0m \u001b[0;34m\"Use the TensorFlow API\"\u001b[0m\u001b[0;34m\u001b[0m\u001b[0;34m\u001b[0m\u001b[0m\n\u001b[0;32m----> 7\u001b[0;31m     \u001b[0;32massert\u001b[0m \u001b[0;34m(\u001b[0m\u001b[0mnp\u001b[0m\u001b[0;34m.\u001b[0m\u001b[0mabs\u001b[0m\u001b[0;34m(\u001b[0m\u001b[0mresult\u001b[0m \u001b[0;34m-\u001b[0m \u001b[0;34m(\u001b[0m\u001b[0;36m0.7752516\u001b[0m \u001b[0;34m+\u001b[0m  \u001b[0;36m0.9752516\u001b[0m \u001b[0;34m+\u001b[0m \u001b[0;36m0.7752516\u001b[0m\u001b[0;34m)\u001b[0m \u001b[0;34m/\u001b[0m \u001b[0;36m3.0\u001b[0m\u001b[0;34m)\u001b[0m \u001b[0;34m<\u001b[0m \u001b[0;36m1e-7\u001b[0m\u001b[0;34m)\u001b[0m\u001b[0;34m,\u001b[0m \u001b[0;34m\"Test does not match. Did you get the mean of your cost functions?\"\u001b[0m\u001b[0;34m\u001b[0m\u001b[0;34m\u001b[0m\u001b[0m\n\u001b[0m\u001b[1;32m      8\u001b[0m \u001b[0;34m\u001b[0m\u001b[0m\n\u001b[1;32m      9\u001b[0m     \u001b[0mprint\u001b[0m\u001b[0;34m(\u001b[0m\u001b[0;34m\"\\033[92mAll test passed\"\u001b[0m\u001b[0;34m)\u001b[0m\u001b[0;34m\u001b[0m\u001b[0;34m\u001b[0m\u001b[0m\n",
            "\u001b[0;31mAssertionError\u001b[0m: Test does not match. Did you get the mean of your cost functions?"
          ]
        }
      ]
    },
    {
      "cell_type": "markdown",
      "metadata": {
        "id": "JRZb0z_b5c8c"
      },
      "source": [
        "**Expected output**\n",
        "```\n",
        "tf.Tensor(0.8419182681095858, shape=(), dtype=float64)\n",
        "```"
      ]
    },
    {
      "cell_type": "markdown",
      "metadata": {
        "id": "uISE5wXm5c8c"
      },
      "source": [
        "<a name='3-3'></a>\n",
        "### 3.3 - Train the Model\n",
        "\n",
        "Let's talk optimizers. You'll specify the type of optimizer in one line, in this case `tf.keras.optimizers.Adam` (though you can use others such as SGD), and then call it within the training loop. \n",
        "\n",
        "Notice the `tape.gradient` function: this allows you to retrieve the operations recorded for automatic differentiation inside the `GradientTape` block. Then, calling the optimizer method `apply_gradients`, will apply the optimizer's update rules to each trainable parameter. At the end of this assignment, you'll find some documentation that explains this more in detail, but for now, a simple explanation will do. ;) \n",
        "\n",
        "\n",
        "Here you should take note of an important extra step that's been added to the batch training process: \n",
        "\n",
        "- `tf.Data.dataset = dataset.prefetch(8)` \n",
        "\n",
        "What this does is prevent a memory bottleneck that can occur when reading from disk. `prefetch()` sets aside some data and keeps it ready for when it's needed. It does this by creating a source dataset from your input data, applying a transformation to preprocess the data, then iterating over the dataset the specified number of elements at a time. This works because the iteration is streaming, so the data doesn't need to fit into the memory. "
      ]
    },
    {
      "cell_type": "code",
      "metadata": {
        "id": "jkmGVGYy5c8d"
      },
      "source": [
        "def model(X_train, Y_train, X_test, Y_test, learning_rate = 0.0001,\n",
        "          num_epochs = 1500, minibatch_size = 32, print_cost = True):\n",
        "    \"\"\"\n",
        "    Implements a three-layer tensorflow neural network: LINEAR->RELU->LINEAR->RELU->LINEAR->SOFTMAX.\n",
        "    \n",
        "    Arguments:\n",
        "    X_train -- training set, of shape (input size = 12288, number of training examples = 1080)\n",
        "    Y_train -- test set, of shape (output size = 6, number of training examples = 1080)\n",
        "    X_test -- training set, of shape (input size = 12288, number of training examples = 120)\n",
        "    Y_test -- test set, of shape (output size = 6, number of test examples = 120)\n",
        "    learning_rate -- learning rate of the optimization\n",
        "    num_epochs -- number of epochs of the optimization loop\n",
        "    minibatch_size -- size of a minibatch\n",
        "    print_cost -- True to print the cost every 100 epochs\n",
        "    \n",
        "    Returns:\n",
        "    parameters -- parameters learnt by the model. They can then be used to predict.\n",
        "    \"\"\"\n",
        "    \n",
        "    costs = []                                        # To keep track of the cost\n",
        "    \n",
        "    # Initialize your parameters\n",
        "    #(1 line)\n",
        "    parameters = initialize_parameters()\n",
        "\n",
        "    W1 = parameters['W1']\n",
        "    b1 = parameters['b1']\n",
        "    W2 = parameters['W2']\n",
        "    b2 = parameters['b2']\n",
        "    W3 = parameters['W3']\n",
        "    b3 = parameters['b3']\n",
        "\n",
        "    optimizer = tf.keras.optimizers.SGD(learning_rate)\n",
        "\n",
        "    X_train = X_train.batch(minibatch_size, drop_remainder=True).prefetch(8)# <<< extra step    \n",
        "    Y_train = Y_train.batch(minibatch_size, drop_remainder=True).prefetch(8) # loads memory faster \n",
        "\n",
        "    # Do the training loop\n",
        "    for epoch in range(num_epochs):\n",
        "\n",
        "        epoch_cost = 0.\n",
        "        \n",
        "        for (minibatch_X, minibatch_Y) in zip(X_train, Y_train):\n",
        "            # Select a minibatch\n",
        "            with tf.GradientTape() as tape:\n",
        "                # 1. predict\n",
        "                Z3 = forward_propagation(minibatch_X, parameters)\n",
        "                # 2. loss\n",
        "                minibatch_cost = compute_cost(Z3, minibatch_Y)\n",
        "                \n",
        "            trainable_variables = [W1, b1, W2, b2, W3, b3]\n",
        "            grads = tape.gradient(minibatch_cost, trainable_variables)\n",
        "            optimizer.apply_gradients(zip(grads, trainable_variables))\n",
        "            epoch_cost += minibatch_cost / minibatch_size\n",
        "\n",
        "        # Print the cost every epoch\n",
        "        if print_cost == True and epoch % 10 == 0:\n",
        "            print (\"Cost after epoch %i: %f\" % (epoch, epoch_cost))\n",
        "        if print_cost == True and epoch % 5 == 0:\n",
        "            costs.append(epoch_cost)\n",
        "\n",
        "    # Plot the cost\n",
        "    plt.plot(np.squeeze(costs))\n",
        "    plt.ylabel('cost')\n",
        "    plt.xlabel('iterations (per fives)')\n",
        "    plt.title(\"Learning rate =\" + str(learning_rate))\n",
        "    plt.show()\n",
        "\n",
        "    # Save the parameters in a variable\n",
        "    print (\"Parameters have been trained!\")\n",
        "\n",
        "    return parameters"
      ],
      "execution_count": null,
      "outputs": []
    },
    {
      "cell_type": "code",
      "metadata": {
        "id": "-EvBg9D55c8d",
        "outputId": "94842d33-c7bb-4292-d6c9-48d5018a68af"
      },
      "source": [
        "model(new_train, new_y_train, new_test, new_y_test, num_epochs=200)"
      ],
      "execution_count": null,
      "outputs": [
        {
          "output_type": "stream",
          "text": [
            "Cost after epoch 0: 0.000000\n",
            "Cost after epoch 10: 0.000000\n",
            "Cost after epoch 20: 0.000000\n",
            "Cost after epoch 30: 0.000000\n",
            "Cost after epoch 40: nan\n",
            "Cost after epoch 50: nan\n",
            "Cost after epoch 60: nan\n",
            "Cost after epoch 70: nan\n",
            "Cost after epoch 80: nan\n",
            "Cost after epoch 90: nan\n",
            "Cost after epoch 100: nan\n",
            "Cost after epoch 110: nan\n",
            "Cost after epoch 120: nan\n",
            "Cost after epoch 130: nan\n",
            "Cost after epoch 140: nan\n",
            "Cost after epoch 150: nan\n",
            "Cost after epoch 160: nan\n",
            "Cost after epoch 170: nan\n",
            "Cost after epoch 180: nan\n",
            "Cost after epoch 190: nan\n"
          ],
          "name": "stdout"
        },
        {
          "output_type": "display_data",
          "data": {
            "image/png": "[encoded data removed]",
            "text/plain": [
              "<Figure size 432x288 with 1 Axes>"
            ]
          },
          "metadata": {
            "tags": [],
            "needs_background": "light"
          }
        },
        {
          "output_type": "stream",
          "text": [
            "Parameters have been trained!\n"
          ],
          "name": "stdout"
        },
        {
          "output_type": "execute_result",
          "data": {
            "text/plain": [
              "{'W1': <tf.Variable 'Variable:0' shape=(25, 12288) dtype=float32, numpy=\n",
              " array([[nan, nan, nan, ..., nan, nan, nan],\n",
              "        [nan, nan, nan, ..., nan, nan, nan],\n",
              "        [nan, nan, nan, ..., nan, nan, nan],\n",
              "        ...,\n",
              "        [nan, nan, nan, ..., nan, nan, nan],\n",
              "        [nan, nan, nan, ..., nan, nan, nan],\n",
              "        [nan, nan, nan, ..., nan, nan, nan]], dtype=float32)>,\n",
              " 'b1': <tf.Variable 'Variable:0' shape=(25, 1) dtype=float32, numpy=\n",
              " array([[nan],\n",
              "        [nan],\n",
              "        [nan],\n",
              "        [nan],\n",
              "        [nan],\n",
              "        [nan],\n",
              "        [nan],\n",
              "        [nan],\n",
              "        [nan],\n",
              "        [nan],\n",
              "        [nan],\n",
              "        [nan],\n",
              "        [nan],\n",
              "        [nan],\n",
              "        [nan],\n",
              "        [nan],\n",
              "        [nan],\n",
              "        [nan],\n",
              "        [nan],\n",
              "        [nan],\n",
              "        [nan],\n",
              "        [nan],\n",
              "        [nan],\n",
              "        [nan],\n",
              "        [nan]], dtype=float32)>,\n",
              " 'W2': <tf.Variable 'Variable:0' shape=(12, 25) dtype=float32, numpy=\n",
              " array([[nan, nan, nan, nan, nan, nan, nan, nan, nan, nan, nan, nan, nan,\n",
              "         nan, nan, nan, nan, nan, nan, nan, nan, nan, nan, nan, nan],\n",
              "        [nan, nan, nan, nan, nan, nan, nan, nan, nan, nan, nan, nan, nan,\n",
              "         nan, nan, nan, nan, nan, nan, nan, nan, nan, nan, nan, nan],\n",
              "        [nan, nan, nan, nan, nan, nan, nan, nan, nan, nan, nan, nan, nan,\n",
              "         nan, nan, nan, nan, nan, nan, nan, nan, nan, nan, nan, nan],\n",
              "        [nan, nan, nan, nan, nan, nan, nan, nan, nan, nan, nan, nan, nan,\n",
              "         nan, nan, nan, nan, nan, nan, nan, nan, nan, nan, nan, nan],\n",
              "        [nan, nan, nan, nan, nan, nan, nan, nan, nan, nan, nan, nan, nan,\n",
              "         nan, nan, nan, nan, nan, nan, nan, nan, nan, nan, nan, nan],\n",
              "        [nan, nan, nan, nan, nan, nan, nan, nan, nan, nan, nan, nan, nan,\n",
              "         nan, nan, nan, nan, nan, nan, nan, nan, nan, nan, nan, nan],\n",
              "        [nan, nan, nan, nan, nan, nan, nan, nan, nan, nan, nan, nan, nan,\n",
              "         nan, nan, nan, nan, nan, nan, nan, nan, nan, nan, nan, nan],\n",
              "        [nan, nan, nan, nan, nan, nan, nan, nan, nan, nan, nan, nan, nan,\n",
              "         nan, nan, nan, nan, nan, nan, nan, nan, nan, nan, nan, nan],\n",
              "        [nan, nan, nan, nan, nan, nan, nan, nan, nan, nan, nan, nan, nan,\n",
              "         nan, nan, nan, nan, nan, nan, nan, nan, nan, nan, nan, nan],\n",
              "        [nan, nan, nan, nan, nan, nan, nan, nan, nan, nan, nan, nan, nan,\n",
              "         nan, nan, nan, nan, nan, nan, nan, nan, nan, nan, nan, nan],\n",
              "        [nan, nan, nan, nan, nan, nan, nan, nan, nan, nan, nan, nan, nan,\n",
              "         nan, nan, nan, nan, nan, nan, nan, nan, nan, nan, nan, nan],\n",
              "        [nan, nan, nan, nan, nan, nan, nan, nan, nan, nan, nan, nan, nan,\n",
              "         nan, nan, nan, nan, nan, nan, nan, nan, nan, nan, nan, nan]],\n",
              "       dtype=float32)>,\n",
              " 'b2': <tf.Variable 'Variable:0' shape=(12, 1) dtype=float32, numpy=\n",
              " array([[nan],\n",
              "        [nan],\n",
              "        [nan],\n",
              "        [nan],\n",
              "        [nan],\n",
              "        [nan],\n",
              "        [nan],\n",
              "        [nan],\n",
              "        [nan],\n",
              "        [nan],\n",
              "        [nan],\n",
              "        [nan]], dtype=float32)>,\n",
              " 'W3': <tf.Variable 'Variable:0' shape=(6, 12) dtype=float32, numpy=\n",
              " array([[nan, nan, nan, nan, nan, nan, nan, nan, nan, nan, nan, nan],\n",
              "        [nan, nan, nan, nan, nan, nan, nan, nan, nan, nan, nan, nan],\n",
              "        [nan, nan, nan, nan, nan, nan, nan, nan, nan, nan, nan, nan],\n",
              "        [nan, nan, nan, nan, nan, nan, nan, nan, nan, nan, nan, nan],\n",
              "        [nan, nan, nan, nan, nan, nan, nan, nan, nan, nan, nan, nan],\n",
              "        [nan, nan, nan, nan, nan, nan, nan, nan, nan, nan, nan, nan]],\n",
              "       dtype=float32)>,\n",
              " 'b3': <tf.Variable 'Variable:0' shape=(6, 1) dtype=float32, numpy=\n",
              " array([[nan],\n",
              "        [nan],\n",
              "        [nan],\n",
              "        [nan],\n",
              "        [nan],\n",
              "        [nan]], dtype=float32)>}"
            ]
          },
          "metadata": {
            "tags": []
          },
          "execution_count": 67
        }
      ]
    },
    {
      "cell_type": "markdown",
      "metadata": {
        "id": "T0-b9mbx5c8d"
      },
      "source": [
        "**Expected output**\n",
        "\n",
        "```\n",
        "Cost after epoch 0: 0.742591\n",
        "Cost after epoch 10: 0.614557\n",
        "Cost after epoch 20: 0.598900\n",
        "Cost after epoch 30: 0.588907\n",
        "Cost after epoch 40: 0.579898\n",
        "...\n",
        "```"
      ]
    },
    {
      "cell_type": "markdown",
      "metadata": {
        "id": "uP7nSBL05c8d"
      },
      "source": [
        "**Congratulations**! You've made it to the end of this assignment, and to the end of this week's material. Amazing work building a neural network in TensorFlow 2.3! \n",
        "\n",
        "Here's a quick recap of all you just achieved:\n",
        "\n",
        "- Used `tf.Variable` to modify your variables\n",
        "- Applied TensorFlow decorators and observed how they sped up your code\n",
        "- Trained a Neural Network on a TensorFlow dataset\n",
        "\n",
        "You are now able to harness the power of TensorFlow's computational graph to create cool things, faster. Nice! "
      ]
    },
    {
      "cell_type": "markdown",
      "metadata": {
        "id": "CWK-ihhk5c8e"
      },
      "source": [
        "<a name='4'></a>\n",
        "## 4 - Bibliography \n",
        "\n",
        "In this assignment, you were introducted to `tf.GradientTape`, which records operations for differentation. Here are a couple of resources for diving deeper into what it does and why: \n",
        "\n",
        "Introduction to Gradients and Automatic Differentiation: \n",
        "https://www.tensorflow.org/guide/autodiff \n",
        "\n",
        "GradientTape documentation:\n",
        "https://www.tensorflow.org/api_docs/python/tf/GradientTape"
      ]
    },
    {
      "cell_type": "code",
      "metadata": {
        "id": "T24WvKK75c8e"
      },
      "source": [
        ""
      ],
      "execution_count": null,
      "outputs": []
    }
  ]
}